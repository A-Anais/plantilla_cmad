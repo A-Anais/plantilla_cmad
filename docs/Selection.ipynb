{
 "cells": [
  {
   "cell_type": "markdown",
   "id": "13d8fb4e-db6f-4c4f-8b4d-ecb4977b43b0",
   "metadata": {},
   "source": [
    "# Model Selection"
   ]
  },
  {
   "cell_type": "code",
   "execution_count": 9,
   "id": "39942711-e059-4c20-8fa3-08e944af99a9",
   "metadata": {
    "vscode": {
     "languageId": "r"
    }
   },
   "outputs": [],
   "source": [
    "library(wooldridge)\n",
    "library(dplyr)\n",
    "\n",
    "setwd(\"C:/Users/fernando.diazh/Dropbox/USM/C-MAD/Codes\")"
   ]
  },
  {
   "cell_type": "markdown",
   "id": "3a3449fd-9164-4a3a-92a9-029f3f9b0e6c",
   "metadata": {},
   "source": [
    "# 1. Forward Stepwise Selection"
   ]
  },
  {
   "cell_type": "code",
   "execution_count": 10,
   "id": "087fe788-9a6e-468f-b403-e3e3ec846b17",
   "metadata": {
    "vscode": {
     "languageId": "r"
    }
   },
   "outputs": [
    {
     "data": {
      "text/html": [
       "<table class=\"dataframe\">\n",
       "<caption>A data.frame: 6 × 17</caption>\n",
       "<thead>\n",
       "\t<tr><th></th><th scope=col>wage</th><th scope=col>hours</th><th scope=col>IQ</th><th scope=col>KWW</th><th scope=col>educ</th><th scope=col>exper</th><th scope=col>tenure</th><th scope=col>age</th><th scope=col>married</th><th scope=col>black</th><th scope=col>south</th><th scope=col>urban</th><th scope=col>sibs</th><th scope=col>brthord</th><th scope=col>meduc</th><th scope=col>feduc</th><th scope=col>lwage</th></tr>\n",
       "\t<tr><th></th><th scope=col>&lt;int&gt;</th><th scope=col>&lt;int&gt;</th><th scope=col>&lt;int&gt;</th><th scope=col>&lt;int&gt;</th><th scope=col>&lt;int&gt;</th><th scope=col>&lt;int&gt;</th><th scope=col>&lt;int&gt;</th><th scope=col>&lt;int&gt;</th><th scope=col>&lt;int&gt;</th><th scope=col>&lt;int&gt;</th><th scope=col>&lt;int&gt;</th><th scope=col>&lt;int&gt;</th><th scope=col>&lt;int&gt;</th><th scope=col>&lt;int&gt;</th><th scope=col>&lt;int&gt;</th><th scope=col>&lt;int&gt;</th><th scope=col>&lt;dbl&gt;</th></tr>\n",
       "</thead>\n",
       "<tbody>\n",
       "\t<tr><th scope=row>1</th><td> 769</td><td>40</td><td> 93</td><td>35</td><td>12</td><td>11</td><td> 2</td><td>31</td><td>1</td><td>0</td><td>0</td><td>1</td><td> 1</td><td> 2</td><td> 8</td><td> 8</td><td>6.645091</td></tr>\n",
       "\t<tr><th scope=row>2</th><td> 808</td><td>50</td><td>119</td><td>41</td><td>18</td><td>11</td><td>16</td><td>37</td><td>1</td><td>0</td><td>0</td><td>1</td><td> 1</td><td>NA</td><td>14</td><td>14</td><td>6.694562</td></tr>\n",
       "\t<tr><th scope=row>3</th><td> 825</td><td>40</td><td>108</td><td>46</td><td>14</td><td>11</td><td> 9</td><td>33</td><td>1</td><td>0</td><td>0</td><td>1</td><td> 1</td><td> 2</td><td>14</td><td>14</td><td>6.715384</td></tr>\n",
       "\t<tr><th scope=row>4</th><td> 650</td><td>40</td><td> 96</td><td>32</td><td>12</td><td>13</td><td> 7</td><td>32</td><td>1</td><td>0</td><td>0</td><td>1</td><td> 4</td><td> 3</td><td>12</td><td>12</td><td>6.476973</td></tr>\n",
       "\t<tr><th scope=row>5</th><td> 562</td><td>40</td><td> 74</td><td>27</td><td>11</td><td>14</td><td> 5</td><td>34</td><td>1</td><td>0</td><td>0</td><td>1</td><td>10</td><td> 6</td><td> 6</td><td>11</td><td>6.331502</td></tr>\n",
       "\t<tr><th scope=row>6</th><td>1400</td><td>40</td><td>116</td><td>43</td><td>16</td><td>14</td><td> 2</td><td>35</td><td>1</td><td>1</td><td>0</td><td>1</td><td> 1</td><td> 2</td><td> 8</td><td>NA</td><td>7.244227</td></tr>\n",
       "</tbody>\n",
       "</table>\n"
      ],
      "text/latex": [
       "A data.frame: 6 × 17\n",
       "\\begin{tabular}{r|lllllllllllllllll}\n",
       "  & wage & hours & IQ & KWW & educ & exper & tenure & age & married & black & south & urban & sibs & brthord & meduc & feduc & lwage\\\\\n",
       "  & <int> & <int> & <int> & <int> & <int> & <int> & <int> & <int> & <int> & <int> & <int> & <int> & <int> & <int> & <int> & <int> & <dbl>\\\\\n",
       "\\hline\n",
       "\t1 &  769 & 40 &  93 & 35 & 12 & 11 &  2 & 31 & 1 & 0 & 0 & 1 &  1 &  2 &  8 &  8 & 6.645091\\\\\n",
       "\t2 &  808 & 50 & 119 & 41 & 18 & 11 & 16 & 37 & 1 & 0 & 0 & 1 &  1 & NA & 14 & 14 & 6.694562\\\\\n",
       "\t3 &  825 & 40 & 108 & 46 & 14 & 11 &  9 & 33 & 1 & 0 & 0 & 1 &  1 &  2 & 14 & 14 & 6.715384\\\\\n",
       "\t4 &  650 & 40 &  96 & 32 & 12 & 13 &  7 & 32 & 1 & 0 & 0 & 1 &  4 &  3 & 12 & 12 & 6.476973\\\\\n",
       "\t5 &  562 & 40 &  74 & 27 & 11 & 14 &  5 & 34 & 1 & 0 & 0 & 1 & 10 &  6 &  6 & 11 & 6.331502\\\\\n",
       "\t6 & 1400 & 40 & 116 & 43 & 16 & 14 &  2 & 35 & 1 & 1 & 0 & 1 &  1 &  2 &  8 & NA & 7.244227\\\\\n",
       "\\end{tabular}\n"
      ],
      "text/markdown": [
       "\n",
       "A data.frame: 6 × 17\n",
       "\n",
       "| <!--/--> | wage &lt;int&gt; | hours &lt;int&gt; | IQ &lt;int&gt; | KWW &lt;int&gt; | educ &lt;int&gt; | exper &lt;int&gt; | tenure &lt;int&gt; | age &lt;int&gt; | married &lt;int&gt; | black &lt;int&gt; | south &lt;int&gt; | urban &lt;int&gt; | sibs &lt;int&gt; | brthord &lt;int&gt; | meduc &lt;int&gt; | feduc &lt;int&gt; | lwage &lt;dbl&gt; |\n",
       "|---|---|---|---|---|---|---|---|---|---|---|---|---|---|---|---|---|---|\n",
       "| 1 |  769 | 40 |  93 | 35 | 12 | 11 |  2 | 31 | 1 | 0 | 0 | 1 |  1 |  2 |  8 |  8 | 6.645091 |\n",
       "| 2 |  808 | 50 | 119 | 41 | 18 | 11 | 16 | 37 | 1 | 0 | 0 | 1 |  1 | NA | 14 | 14 | 6.694562 |\n",
       "| 3 |  825 | 40 | 108 | 46 | 14 | 11 |  9 | 33 | 1 | 0 | 0 | 1 |  1 |  2 | 14 | 14 | 6.715384 |\n",
       "| 4 |  650 | 40 |  96 | 32 | 12 | 13 |  7 | 32 | 1 | 0 | 0 | 1 |  4 |  3 | 12 | 12 | 6.476973 |\n",
       "| 5 |  562 | 40 |  74 | 27 | 11 | 14 |  5 | 34 | 1 | 0 | 0 | 1 | 10 |  6 |  6 | 11 | 6.331502 |\n",
       "| 6 | 1400 | 40 | 116 | 43 | 16 | 14 |  2 | 35 | 1 | 1 | 0 | 1 |  1 |  2 |  8 | NA | 7.244227 |\n",
       "\n"
      ],
      "text/plain": [
       "  wage hours IQ  KWW educ exper tenure age married black south urban sibs\n",
       "1  769 40     93 35  12   11     2     31  1       0     0     1      1  \n",
       "2  808 50    119 41  18   11    16     37  1       0     0     1      1  \n",
       "3  825 40    108 46  14   11     9     33  1       0     0     1      1  \n",
       "4  650 40     96 32  12   13     7     32  1       0     0     1      4  \n",
       "5  562 40     74 27  11   14     5     34  1       0     0     1     10  \n",
       "6 1400 40    116 43  16   14     2     35  1       1     0     1      1  \n",
       "  brthord meduc feduc lwage   \n",
       "1  2       8     8    6.645091\n",
       "2 NA      14    14    6.694562\n",
       "3  2      14    14    6.715384\n",
       "4  3      12    12    6.476973\n",
       "5  6       6    11    6.331502\n",
       "6  2       8    NA    7.244227"
      ]
     },
     "metadata": {},
     "output_type": "display_data"
    },
    {
     "data": {
      "text/html": [
       "<style>\n",
       ".list-inline {list-style: none; margin:0; padding: 0}\n",
       ".list-inline>li {display: inline-block}\n",
       ".list-inline>li:not(:last-child)::after {content: \"\\00b7\"; padding: 0 .5ex}\n",
       "</style>\n",
       "<ol class=list-inline><li>'wage'</li><li>'hours'</li><li>'IQ'</li><li>'KWW'</li><li>'educ'</li><li>'exper'</li><li>'tenure'</li><li>'age'</li><li>'married'</li><li>'black'</li><li>'south'</li><li>'urban'</li><li>'sibs'</li><li>'brthord'</li><li>'meduc'</li><li>'feduc'</li><li>'lwage'</li></ol>\n"
      ],
      "text/latex": [
       "\\begin{enumerate*}\n",
       "\\item 'wage'\n",
       "\\item 'hours'\n",
       "\\item 'IQ'\n",
       "\\item 'KWW'\n",
       "\\item 'educ'\n",
       "\\item 'exper'\n",
       "\\item 'tenure'\n",
       "\\item 'age'\n",
       "\\item 'married'\n",
       "\\item 'black'\n",
       "\\item 'south'\n",
       "\\item 'urban'\n",
       "\\item 'sibs'\n",
       "\\item 'brthord'\n",
       "\\item 'meduc'\n",
       "\\item 'feduc'\n",
       "\\item 'lwage'\n",
       "\\end{enumerate*}\n"
      ],
      "text/markdown": [
       "1. 'wage'\n",
       "2. 'hours'\n",
       "3. 'IQ'\n",
       "4. 'KWW'\n",
       "5. 'educ'\n",
       "6. 'exper'\n",
       "7. 'tenure'\n",
       "8. 'age'\n",
       "9. 'married'\n",
       "10. 'black'\n",
       "11. 'south'\n",
       "12. 'urban'\n",
       "13. 'sibs'\n",
       "14. 'brthord'\n",
       "15. 'meduc'\n",
       "16. 'feduc'\n",
       "17. 'lwage'\n",
       "\n",
       "\n"
      ],
      "text/plain": [
       " [1] \"wage\"    \"hours\"   \"IQ\"      \"KWW\"     \"educ\"    \"exper\"   \"tenure\" \n",
       " [8] \"age\"     \"married\" \"black\"   \"south\"   \"urban\"   \"sibs\"    \"brthord\"\n",
       "[15] \"meduc\"   \"feduc\"   \"lwage\"  "
      ]
     },
     "metadata": {},
     "output_type": "display_data"
    }
   ],
   "source": [
    "data <- wage2\n",
    "head(data)\n",
    "names(data)\n"
   ]
  },
  {
   "cell_type": "code",
   "execution_count": 11,
   "id": "8ad273d7-4e40-4b3a-bce2-b624e1c512d3",
   "metadata": {
    "vscode": {
     "languageId": "r"
    }
   },
   "outputs": [],
   "source": [
    "data <- data %>% select(-wage)\n",
    "data <- data  |> na.omit()"
   ]
  },
  {
   "cell_type": "markdown",
   "id": "a5674796-62b7-454d-93a1-bbabb8558eb1",
   "metadata": {},
   "source": [
    "**Mo**"
   ]
  },
  {
   "cell_type": "code",
   "execution_count": 12,
   "id": "c6f3ef07-4d47-40cf-8826-30f89911f4eb",
   "metadata": {
    "vscode": {
     "languageId": "r"
    }
   },
   "outputs": [
    {
     "data": {
      "text/plain": [
       "\n",
       "Call:\n",
       "lm(formula = lwage ~ 1, data = data)\n",
       "\n",
       "Residuals:\n",
       "     Min       1Q   Median       3Q      Max \n",
       "-2.06936 -0.26465  0.02839  0.27578  1.21774 \n",
       "\n",
       "Coefficients:\n",
       "            Estimate Std. Error t value Pr(>|t|)    \n",
       "(Intercept)  6.81430    0.01601   425.7   <2e-16 ***\n",
       "---\n",
       "Signif. codes:  0 '***' 0.001 '**' 0.01 '*' 0.05 '.' 0.1 ' ' 1\n",
       "\n",
       "Residual standard error: 0.4122 on 662 degrees of freedom\n"
      ]
     },
     "metadata": {},
     "output_type": "display_data"
    }
   ],
   "source": [
    "intercept_only <- lm(lwage ~ 1, data=data)\n",
    "summary(intercept_only)"
   ]
  },
  {
   "cell_type": "markdown",
   "id": "57ff2cd3-d076-4e7f-bc41-6c8d2e86bf17",
   "metadata": {},
   "source": [
    "**Mp**"
   ]
  },
  {
   "cell_type": "code",
   "execution_count": 13,
   "id": "3403cb60-5249-4881-aab7-d828ae121615",
   "metadata": {
    "vscode": {
     "languageId": "r"
    }
   },
   "outputs": [
    {
     "data": {
      "text/plain": [
       "\n",
       "Call:\n",
       "lm(formula = lwage ~ ., data = data)\n",
       "\n",
       "Residuals:\n",
       "     Min       1Q   Median       3Q      Max \n",
       "-1.96887 -0.19460  0.00923  0.22401  1.34185 \n",
       "\n",
       "Coefficients:\n",
       "             Estimate Std. Error t value Pr(>|t|)    \n",
       "(Intercept)  5.156439   0.225286  22.888  < 2e-16 ***\n",
       "hours       -0.006548   0.001934  -3.385 0.000754 ***\n",
       "IQ           0.003186   0.001223   2.604 0.009425 ** \n",
       "KWW          0.003735   0.002390   1.562 0.118662    \n",
       "educ         0.041267   0.008942   4.615 4.74e-06 ***\n",
       "exper        0.010749   0.004435   2.424 0.015629 *  \n",
       "tenure       0.007102   0.002894   2.454 0.014401 *  \n",
       "age          0.009107   0.005977   1.524 0.128058    \n",
       "married      0.200760   0.045998   4.365 1.48e-05 ***\n",
       "black       -0.105141   0.055667  -1.889 0.059373 .  \n",
       "south       -0.049076   0.030753  -1.596 0.111019    \n",
       "urban        0.195658   0.031240   6.263 6.88e-10 ***\n",
       "sibs         0.009619   0.007876   1.221 0.222423    \n",
       "brthord     -0.018465   0.011569  -1.596 0.110975    \n",
       "meduc        0.009633   0.006167   1.562 0.118753    \n",
       "feduc        0.005590   0.005398   1.036 0.300804    \n",
       "---\n",
       "Signif. codes:  0 '***' 0.001 '**' 0.01 '*' 0.05 '.' 0.1 ' ' 1\n",
       "\n",
       "Residual standard error: 0.3507 on 647 degrees of freedom\n",
       "Multiple R-squared:  0.2925,\tAdjusted R-squared:  0.2761 \n",
       "F-statistic: 17.84 on 15 and 647 DF,  p-value: < 2.2e-16\n"
      ]
     },
     "metadata": {},
     "output_type": "display_data"
    }
   ],
   "source": [
    "full_model <- lm(lwage ~ ., data=data)\n",
    "summary(full_model)"
   ]
  },
  {
   "cell_type": "markdown",
   "id": "ef69be51-cef9-4692-896e-87d2b5cd1f85",
   "metadata": {},
   "source": [
    "**Forward Stepwise**"
   ]
  },
  {
   "cell_type": "code",
   "execution_count": 14,
   "id": "2e7ea6be-cdb3-4592-a630-be98338afba7",
   "metadata": {
    "vscode": {
     "languageId": "r"
    }
   },
   "outputs": [],
   "source": [
    "forward <- step(intercept_only, direction='forward', scope=formula(full_model), trace=0)"
   ]
  },
  {
   "cell_type": "code",
   "execution_count": 15,
   "id": "d7a8b57e-094b-446a-bf57-3bbb62527139",
   "metadata": {
    "vscode": {
     "languageId": "r"
    }
   },
   "outputs": [
    {
     "data": {
      "text/html": [
       "<table class=\"dataframe\">\n",
       "<caption>A data.frame: 13 × 6</caption>\n",
       "<thead>\n",
       "\t<tr><th scope=col>Step</th><th scope=col>Df</th><th scope=col>Deviance</th><th scope=col>Resid. Df</th><th scope=col>Resid. Dev</th><th scope=col>AIC</th></tr>\n",
       "\t<tr><th scope=col>&lt;I&lt;chr&gt;&gt;</th><th scope=col>&lt;dbl&gt;</th><th scope=col>&lt;dbl&gt;</th><th scope=col>&lt;dbl&gt;</th><th scope=col>&lt;dbl&gt;</th><th scope=col>&lt;dbl&gt;</th></tr>\n",
       "</thead>\n",
       "<tbody>\n",
       "\t<tr><td>         </td><td>NA</td><td>        NA</td><td>662</td><td>112.48316</td><td>-1174.143</td></tr>\n",
       "\t<tr><td>+ educ   </td><td>-1</td><td>11.6940171</td><td>661</td><td>100.78915</td><td>-1244.922</td></tr>\n",
       "\t<tr><td>+ urban  </td><td>-1</td><td> 5.0402263</td><td>660</td><td> 95.74892</td><td>-1276.935</td></tr>\n",
       "\t<tr><td>+ exper  </td><td>-1</td><td> 4.5761402</td><td>659</td><td> 91.17278</td><td>-1307.404</td></tr>\n",
       "\t<tr><td>+ married</td><td>-1</td><td> 2.8110673</td><td>658</td><td> 88.36171</td><td>-1326.168</td></tr>\n",
       "\t<tr><td>+ IQ     </td><td>-1</td><td> 2.6591333</td><td>657</td><td> 85.70258</td><td>-1344.426</td></tr>\n",
       "\t<tr><td>+ tenure </td><td>-1</td><td> 1.3420426</td><td>656</td><td> 84.36054</td><td>-1352.891</td></tr>\n",
       "\t<tr><td>+ meduc  </td><td>-1</td><td> 1.1471897</td><td>655</td><td> 83.21335</td><td>-1359.968</td></tr>\n",
       "\t<tr><td>+ hours  </td><td>-1</td><td> 1.0530597</td><td>654</td><td> 82.16029</td><td>-1366.412</td></tr>\n",
       "\t<tr><td>+ age    </td><td>-1</td><td> 0.8028944</td><td>653</td><td> 81.35739</td><td>-1370.923</td></tr>\n",
       "\t<tr><td>+ black  </td><td>-1</td><td> 0.6104059</td><td>652</td><td> 80.74699</td><td>-1373.916</td></tr>\n",
       "\t<tr><td>+ south  </td><td>-1</td><td> 0.4016618</td><td>651</td><td> 80.34532</td><td>-1375.222</td></tr>\n",
       "\t<tr><td>+ KWW    </td><td>-1</td><td> 0.2743057</td><td>650</td><td> 80.07102</td><td>-1375.490</td></tr>\n",
       "</tbody>\n",
       "</table>\n"
      ],
      "text/latex": [
       "A data.frame: 13 × 6\n",
       "\\begin{tabular}{llllll}\n",
       " Step & Df & Deviance & Resid. Df & Resid. Dev & AIC\\\\\n",
       " <I<chr>> & <dbl> & <dbl> & <dbl> & <dbl> & <dbl>\\\\\n",
       "\\hline\n",
       "\t           & NA &         NA & 662 & 112.48316 & -1174.143\\\\\n",
       "\t + educ    & -1 & 11.6940171 & 661 & 100.78915 & -1244.922\\\\\n",
       "\t + urban   & -1 &  5.0402263 & 660 &  95.74892 & -1276.935\\\\\n",
       "\t + exper   & -1 &  4.5761402 & 659 &  91.17278 & -1307.404\\\\\n",
       "\t + married & -1 &  2.8110673 & 658 &  88.36171 & -1326.168\\\\\n",
       "\t + IQ      & -1 &  2.6591333 & 657 &  85.70258 & -1344.426\\\\\n",
       "\t + tenure  & -1 &  1.3420426 & 656 &  84.36054 & -1352.891\\\\\n",
       "\t + meduc   & -1 &  1.1471897 & 655 &  83.21335 & -1359.968\\\\\n",
       "\t + hours   & -1 &  1.0530597 & 654 &  82.16029 & -1366.412\\\\\n",
       "\t + age     & -1 &  0.8028944 & 653 &  81.35739 & -1370.923\\\\\n",
       "\t + black   & -1 &  0.6104059 & 652 &  80.74699 & -1373.916\\\\\n",
       "\t + south   & -1 &  0.4016618 & 651 &  80.34532 & -1375.222\\\\\n",
       "\t + KWW     & -1 &  0.2743057 & 650 &  80.07102 & -1375.490\\\\\n",
       "\\end{tabular}\n"
      ],
      "text/markdown": [
       "\n",
       "A data.frame: 13 × 6\n",
       "\n",
       "| Step &lt;I&lt;chr&gt;&gt; | Df &lt;dbl&gt; | Deviance &lt;dbl&gt; | Resid. Df &lt;dbl&gt; | Resid. Dev &lt;dbl&gt; | AIC &lt;dbl&gt; |\n",
       "|---|---|---|---|---|---|\n",
       "| <!----> | NA |         NA | 662 | 112.48316 | -1174.143 |\n",
       "| + educ    | -1 | 11.6940171 | 661 | 100.78915 | -1244.922 |\n",
       "| + urban   | -1 |  5.0402263 | 660 |  95.74892 | -1276.935 |\n",
       "| + exper   | -1 |  4.5761402 | 659 |  91.17278 | -1307.404 |\n",
       "| + married | -1 |  2.8110673 | 658 |  88.36171 | -1326.168 |\n",
       "| + IQ      | -1 |  2.6591333 | 657 |  85.70258 | -1344.426 |\n",
       "| + tenure  | -1 |  1.3420426 | 656 |  84.36054 | -1352.891 |\n",
       "| + meduc   | -1 |  1.1471897 | 655 |  83.21335 | -1359.968 |\n",
       "| + hours   | -1 |  1.0530597 | 654 |  82.16029 | -1366.412 |\n",
       "| + age     | -1 |  0.8028944 | 653 |  81.35739 | -1370.923 |\n",
       "| + black   | -1 |  0.6104059 | 652 |  80.74699 | -1373.916 |\n",
       "| + south   | -1 |  0.4016618 | 651 |  80.34532 | -1375.222 |\n",
       "| + KWW     | -1 |  0.2743057 | 650 |  80.07102 | -1375.490 |\n",
       "\n"
      ],
      "text/plain": [
       "   Step      Df Deviance   Resid. Df Resid. Dev AIC      \n",
       "1            NA         NA 662       112.48316  -1174.143\n",
       "2  + educ    -1 11.6940171 661       100.78915  -1244.922\n",
       "3  + urban   -1  5.0402263 660        95.74892  -1276.935\n",
       "4  + exper   -1  4.5761402 659        91.17278  -1307.404\n",
       "5  + married -1  2.8110673 658        88.36171  -1326.168\n",
       "6  + IQ      -1  2.6591333 657        85.70258  -1344.426\n",
       "7  + tenure  -1  1.3420426 656        84.36054  -1352.891\n",
       "8  + meduc   -1  1.1471897 655        83.21335  -1359.968\n",
       "9  + hours   -1  1.0530597 654        82.16029  -1366.412\n",
       "10 + age     -1  0.8028944 653        81.35739  -1370.923\n",
       "11 + black   -1  0.6104059 652        80.74699  -1373.916\n",
       "12 + south   -1  0.4016618 651        80.34532  -1375.222\n",
       "13 + KWW     -1  0.2743057 650        80.07102  -1375.490"
      ]
     },
     "metadata": {},
     "output_type": "display_data"
    }
   ],
   "source": [
    "forward$anova"
   ]
  },
  {
   "cell_type": "code",
   "execution_count": 16,
   "id": "30f21731-9aaa-43a0-9ed1-8a3984de44b9",
   "metadata": {
    "vscode": {
     "languageId": "r"
    }
   },
   "outputs": [
    {
     "data": {
      "text/html": [
       "<style>\n",
       ".dl-inline {width: auto; margin:0; padding: 0}\n",
       ".dl-inline>dt, .dl-inline>dd {float: none; width: auto; display: inline-block}\n",
       ".dl-inline>dt::after {content: \":\\0020\"; padding-right: .5ex}\n",
       ".dl-inline>dt:not(:first-of-type) {padding-left: .5ex}\n",
       "</style><dl class=dl-inline><dt>(Intercept)</dt><dd>5.13445983925148</dd><dt>educ</dt><dd>0.0428250888008189</dd><dt>urban</dt><dd>0.19612697074484</dd><dt>exper</dt><dd>0.0103328507887139</dd><dt>married</dt><dd>0.20374288305967</dd><dt>IQ</dt><dd>0.00327250514942286</dd><dt>tenure</dt><dd>0.00694287937296925</dd><dt>meduc</dt><dd>0.0134801666456952</dd><dt>hours</dt><dd>-0.0063708320017193</dd><dt>age</dt><dd>0.00906838401388512</dd><dt>black</dt><dd>-0.0965559523072795</dd><dt>south</dt><dd>-0.0578847298092474</dd><dt>KWW</dt><dd>0.00354649874789977</dd></dl>\n"
      ],
      "text/latex": [
       "\\begin{description*}\n",
       "\\item[(Intercept)] 5.13445983925148\n",
       "\\item[educ] 0.0428250888008189\n",
       "\\item[urban] 0.19612697074484\n",
       "\\item[exper] 0.0103328507887139\n",
       "\\item[married] 0.20374288305967\n",
       "\\item[IQ] 0.00327250514942286\n",
       "\\item[tenure] 0.00694287937296925\n",
       "\\item[meduc] 0.0134801666456952\n",
       "\\item[hours] -0.0063708320017193\n",
       "\\item[age] 0.00906838401388512\n",
       "\\item[black] -0.0965559523072795\n",
       "\\item[south] -0.0578847298092474\n",
       "\\item[KWW] 0.00354649874789977\n",
       "\\end{description*}\n"
      ],
      "text/markdown": [
       "(Intercept)\n",
       ":   5.13445983925148educ\n",
       ":   0.0428250888008189urban\n",
       ":   0.19612697074484exper\n",
       ":   0.0103328507887139married\n",
       ":   0.20374288305967IQ\n",
       ":   0.00327250514942286tenure\n",
       ":   0.00694287937296925meduc\n",
       ":   0.0134801666456952hours\n",
       ":   -0.0063708320017193age\n",
       ":   0.00906838401388512black\n",
       ":   -0.0965559523072795south\n",
       ":   -0.0578847298092474KWW\n",
       ":   0.00354649874789977\n",
       "\n"
      ],
      "text/plain": [
       " (Intercept)         educ        urban        exper      married           IQ \n",
       " 5.134459839  0.042825089  0.196126971  0.010332851  0.203742883  0.003272505 \n",
       "      tenure        meduc        hours          age        black        south \n",
       " 0.006942879  0.013480167 -0.006370832  0.009068384 -0.096555952 -0.057884730 \n",
       "         KWW \n",
       " 0.003546499 "
      ]
     },
     "metadata": {},
     "output_type": "display_data"
    }
   ],
   "source": [
    "forward$coefficients"
   ]
  },
  {
   "cell_type": "markdown",
   "id": "9a6bd011-e6be-46b3-a9d0-4409c5110c85",
   "metadata": {},
   "source": [
    "**Fitting the Best Model**"
   ]
  },
  {
   "cell_type": "code",
   "execution_count": null,
   "id": "b7fbff6b-6b38-48da-afaf-5df7c6f36f16",
   "metadata": {
    "vscode": {
     "languageId": "r"
    }
   },
   "outputs": [],
   "source": []
  }
 ],
 "metadata": {
  "kernelspec": {
   "display_name": "R",
   "language": "R",
   "name": "ir"
  },
  "language_info": {
   "codemirror_mode": "r",
   "file_extension": ".r",
   "mimetype": "text/x-r-source",
   "name": "R",
   "pygments_lexer": "r",
   "version": "4.3.1"
  }
 },
 "nbformat": 4,
 "nbformat_minor": 5
}
